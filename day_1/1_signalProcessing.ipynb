{
 "cells": [
  {
   "cell_type": "markdown",
   "metadata": {},
   "source": [
    "# Урок 1\n",
    "\n",
    "В этом уроке мы научимся извлекать MFCC признаки из аудио файла. Для этого необходимо сделать следующее:\n",
    "\n",
    "1) Загрузить отсчеты и частоту дискретизации wav файла.<br>\n",
    "2) Посчитать MFCC признаки по полученным выше данным.<br>\n",
    "3) Записать посчитанные признаки в удобный формат.<br>"
   ]
  },
  {
   "cell_type": "code",
   "execution_count": null,
   "metadata": {},
   "outputs": [],
   "source": [
    "import numpy as np\n",
    "import matplotlib.pyplot as plt\n",
    "import IPython.display as ipd\n",
    "import librosa, librosa.display\n",
    "\n",
    "from utils import FtrFile"
   ]
  },
  {
   "cell_type": "code",
   "execution_count": null,
   "metadata": {},
   "outputs": [],
   "source": [
    "wav_example = 'data/example.wav'\n",
    "\n",
    "# чтение wav файла:\n",
    "x, sr = librosa.load(wav_example, sr=None)     # sr=None to preserve the native sampling rate\n",
    "\n",
    "print('Number of samples: {}'.format(len(x)))\n",
    "print('Sampling rate: {} Hz'.format(sr))\n",
    "print('Duration: {:.2f} s'.format(len(x)/sr))  # ~ librosa.get_duration(x, sr)\n",
    "\n",
    "# воспроизведение:\n",
    "ipd.Audio(x, rate=sr)"
   ]
  },
  {
   "cell_type": "markdown",
   "metadata": {},
   "source": [
    "Теперь представим данную запись во временной области."
   ]
  },
  {
   "cell_type": "code",
   "execution_count": null,
   "metadata": {},
   "outputs": [],
   "source": [
    "# амплитудная огибающая:\n",
    "\n",
    "%matplotlib inline\n",
    "plt.rcParams['figure.figsize'] = (15.0, 5.0)\n",
    "plt.rcParams['image.interpolation'] = 'nearest'\n",
    "plt.rcParams['image.cmap'] = 'gray'\n",
    "\n",
    "librosa.display.waveplot(x, sr=sr)"
   ]
  },
  {
   "cell_type": "code",
   "execution_count": null,
   "metadata": {},
   "outputs": [],
   "source": [
    "librosa.display.waveplot(x[10000:11000], sr=sr)"
   ]
  },
  {
   "cell_type": "code",
   "execution_count": null,
   "metadata": {},
   "outputs": [],
   "source": [
    "import matplotlib.pyplot as plt\n",
    "\n",
    "plt.plot(x[10000:11000])\n",
    "plt.show()"
   ]
  },
  {
   "cell_type": "markdown",
   "metadata": {},
   "source": [
    "### почему графики отличаются? "
   ]
  },
  {
   "cell_type": "code",
   "execution_count": null,
   "metadata": {},
   "outputs": [],
   "source": [
    "# спектрограмма:\n",
    "\n",
    "D = librosa.amplitude_to_db(np.abs(librosa.stft(x)), ref=np.max)\n",
    "librosa.display.specshow(D, y_axis='log')\n",
    "plt.colorbar(format='%+2.0f dB')\n",
    "plt.title('Log-frequency power spectrogram')"
   ]
  },
  {
   "cell_type": "markdown",
   "metadata": {},
   "source": [
    "### FBANK"
   ]
  },
  {
   "cell_type": "code",
   "execution_count": null,
   "metadata": {},
   "outputs": [],
   "source": [
    "# n_fft = 25 ms      -- длина кадра\n",
    "# hop_length = 10 ms -- длина шага\n",
    "# тогда в отчетах получаем следующее:\n",
    "\n",
    "n_fft = int(sr * 0.025)\n",
    "hop_length = int(sr * 0.01)\n",
    "\n",
    "\n",
    "fbanks = librosa.feature.melspectrogram(x, sr=sr, n_mels=40, n_fft=n_fft, hop_length=hop_length)\n",
    "print(fbanks.shape)\n",
    "print(fbanks[:,1])"
   ]
  },
  {
   "cell_type": "markdown",
   "metadata": {},
   "source": [
    "### MFCC"
   ]
  },
  {
   "cell_type": "code",
   "execution_count": null,
   "metadata": {},
   "outputs": [],
   "source": [
    "mfccs = librosa.feature.mfcc(S=librosa.power_to_db(fbanks), n_mfcc=13)\n",
    "print(mfccs.shape)\n",
    "print(mfccs[:,1])"
   ]
  },
  {
   "cell_type": "code",
   "execution_count": null,
   "metadata": {},
   "outputs": [],
   "source": [
    "wav_name = wav_example.split('.')[0]\n",
    "np.save(wav_name, mfccs)"
   ]
  },
  {
   "cell_type": "markdown",
   "metadata": {},
   "source": [
    "В результате мы получили бинарный файл example.npy, содержащий в себе матрицу с 13-мерными MFCC признаками аудио файла example.wav\n",
    "\n",
    "Но работать с бинарными файлами не всегда удобно. Мы будем пользоваться общепринятым ark текстовым форматом библиотеки распознавания речи KALDI, где в одном файле будут храниться признаки для всех используемых записей. Он выглядит следующим образом:\n",
    "\n",
    "file1-identifier [<br>\n",
    "vec0_0 vec0_1 vec0_2 ... vec0_12<br>\n",
    "vec1_0 vec1_1 vec1_2 ... vec1_12<br>\n",
    "....<br>\n",
    "vecN_0 vecN_1 vecN_2 ... vecN_12<br>\n",
    "]<br>\n",
    "file2-identifier [<br>\n",
    "vec0_0 vec0_1 vec0_2 ... vec0_12<br>\n",
    "vec1_0 vec1_1 vec1_2 ... vec1_12<br>\n",
    "....<br>\n",
    "vecN_0 vecN_1 vecN_2 ... vecN_12<br>\n",
    "]<br>\n",
    "\n",
    "Здесь \"file1-identifier\" – это имя файла, а \"vec0_0 vec0_1 vec0_2 ... vec0_12\" – вектор MFCC признаков первого (нулевого) кадра записи. \n",
    "<br><b>Задание 1</b>.Сохранить нашу матрицу с признаками (features) в указанном формате: "
   ]
  },
  {
   "cell_type": "code",
   "execution_count": null,
   "metadata": {},
   "outputs": [],
   "source": [
    "# запись признаков в формат ark,t:\n",
    "file_name = wav_name + '.txtftr'\n",
    "features = mfccs\n",
    "\n",
    "with open(file_name, 'w') as fn:\n",
    "    #---------------------------TODO-----------------------------------------\n",
    "\n",
    "    #------------------------------------------------------------------------    "
   ]
  },
  {
   "cell_type": "markdown",
   "metadata": {},
   "source": [
    "Для чтения признаков из такого формата мы будем использовать удобную читалку FtrFile. Функция FtrFile.FtrDirectoryReader принимает файл с признаками и возвращает имя файла и класс features, который имеет следующие атрибуты:\n",
    "\n",
    "- nSamples – количество векторов в фале;<br>\n",
    "- nDim – размерность вектора признаков;<br>\n",
    "- readvec() – возвращает очередной вектор признаков;<br>\n",
    "- getall() – возвращает все признаки текущего файла.<br>\n",
    "\n",
    "Также, для ее работы необходимо добавлять префикс 'ark,t:' к названию файла с признаками.\n",
    "\n",
    "Попробуем с ее помощью прочитать наш example.txtftr:"
   ]
  },
  {
   "cell_type": "code",
   "execution_count": null,
   "metadata": {},
   "outputs": [],
   "source": [
    "ark_file = 'ark,t:' + file_name\n",
    "for fileName, features in FtrFile.FtrDirectoryReader(ark_file):\n",
    "    print('имя файла: {}'.format(fileName))\n",
    "    print('количество векторов в файле: {}'.format(features.nSamples))\n",
    "    print('размерность вектора признаков: {}'.format(features.nDim))\n",
    "    print('вектор признаков первого кадра: {}'.format(features.readvec()))"
   ]
  },
  {
   "cell_type": "markdown",
   "metadata": {},
   "source": [
    "Для работы с признаками удобно делать цикл по количеству векторов в файле и в нем уже вызывать features.readvec() для получения признаков текущего кадра. Этим мы займемся в следующем уроке."
   ]
  }
 ],
 "metadata": {
  "kernelspec": {
   "display_name": "Python 3",
   "language": "python",
   "name": "python3"
  },
  "language_info": {
   "codemirror_mode": {
    "name": "ipython",
    "version": 3
   },
   "file_extension": ".py",
   "mimetype": "text/x-python",
   "name": "python",
   "nbconvert_exporter": "python",
   "pygments_lexer": "ipython3",
   "version": "3.6.8"
  }
 },
 "nbformat": 4,
 "nbformat_minor": 2
}
